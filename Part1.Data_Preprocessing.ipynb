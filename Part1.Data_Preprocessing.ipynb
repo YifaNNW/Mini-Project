{
 "cells": [
  {
   "cell_type": "code",
   "execution_count": 33,
   "id": "02a958af",
   "metadata": {},
   "outputs": [],
   "source": [
    "import csv\n",
    "import pandas as pd\n",
    "import numpy as np\n",
    "import matplotlib.pyplot as plt"
   ]
  },
  {
   "cell_type": "code",
   "execution_count": 34,
   "id": "feadf225",
   "metadata": {},
   "outputs": [],
   "source": [
    "# Open the input and output files\n",
    "with open('HSBC_Examples/TstUoB_2024-01-02LOBs.txt', 'r') as infile, open('2024-01-02LOBs.csv', 'w', newline='') as outfile:\n",
    "    # Create a CSV writer object\n",
    "    writer = csv.writer(outfile)\n",
    "\n",
    "    # Write the header row\n",
    "    writer.writerow(['time', 'bid', 'ask'])\n",
    "\n",
    "    # Loop over each line in the input file\n",
    "    for line in infile:\n",
    "        # Split the line into its components\n",
    "        components = eval(line)\n",
    "\n",
    "        # Extract the required data\n",
    "        if len(components[2][1]) < 5 or len(components[3][1]) < 5:\n",
    "            continue\n",
    "        else:\n",
    "            time = components[1]      \n",
    "            bid = round(np.average([item[0] for item in components[2][1]]),2)\n",
    "            ask = round(np.average([item[0] for item in components[3][1]]),2)\n",
    "\n",
    "        # Write the data to the output file\n",
    "        writer.writerow([time, bid, ask])"
   ]
  },
  {
   "cell_type": "code",
   "execution_count": 35,
   "id": "2d68cd8f",
   "metadata": {},
   "outputs": [],
   "source": [
    "df = pd.read_csv('2024-01-02LOBs.csv')"
   ]
  },
  {
   "cell_type": "markdown",
   "id": "4a1d417f",
   "metadata": {},
   "source": [
    "## Check the dimensions and basic information of the Data"
   ]
  },
  {
   "cell_type": "code",
   "execution_count": 36,
   "id": "d721d8cf",
   "metadata": {},
   "outputs": [
    {
     "data": {
      "text/html": [
       "<div>\n",
       "<style scoped>\n",
       "    .dataframe tbody tr th:only-of-type {\n",
       "        vertical-align: middle;\n",
       "    }\n",
       "\n",
       "    .dataframe tbody tr th {\n",
       "        vertical-align: top;\n",
       "    }\n",
       "\n",
       "    .dataframe thead th {\n",
       "        text-align: right;\n",
       "    }\n",
       "</style>\n",
       "<table border=\"1\" class=\"dataframe\">\n",
       "  <thead>\n",
       "    <tr style=\"text-align: right;\">\n",
       "      <th></th>\n",
       "      <th>time</th>\n",
       "      <th>bid</th>\n",
       "      <th>ask</th>\n",
       "    </tr>\n",
       "  </thead>\n",
       "  <tbody>\n",
       "    <tr>\n",
       "      <th>0</th>\n",
       "      <td>13.237</td>\n",
       "      <td>219.0</td>\n",
       "      <td>358.71</td>\n",
       "    </tr>\n",
       "    <tr>\n",
       "      <th>1</th>\n",
       "      <td>13.268</td>\n",
       "      <td>219.0</td>\n",
       "      <td>358.71</td>\n",
       "    </tr>\n",
       "    <tr>\n",
       "      <th>2</th>\n",
       "      <td>13.299</td>\n",
       "      <td>219.0</td>\n",
       "      <td>358.71</td>\n",
       "    </tr>\n",
       "    <tr>\n",
       "      <th>3</th>\n",
       "      <td>13.330</td>\n",
       "      <td>219.0</td>\n",
       "      <td>358.71</td>\n",
       "    </tr>\n",
       "    <tr>\n",
       "      <th>4</th>\n",
       "      <td>13.361</td>\n",
       "      <td>219.0</td>\n",
       "      <td>358.71</td>\n",
       "    </tr>\n",
       "    <tr>\n",
       "      <th>5</th>\n",
       "      <td>13.392</td>\n",
       "      <td>219.0</td>\n",
       "      <td>358.71</td>\n",
       "    </tr>\n",
       "    <tr>\n",
       "      <th>6</th>\n",
       "      <td>13.423</td>\n",
       "      <td>219.0</td>\n",
       "      <td>358.71</td>\n",
       "    </tr>\n",
       "    <tr>\n",
       "      <th>7</th>\n",
       "      <td>13.454</td>\n",
       "      <td>219.0</td>\n",
       "      <td>358.71</td>\n",
       "    </tr>\n",
       "    <tr>\n",
       "      <th>8</th>\n",
       "      <td>13.485</td>\n",
       "      <td>219.0</td>\n",
       "      <td>349.62</td>\n",
       "    </tr>\n",
       "    <tr>\n",
       "      <th>9</th>\n",
       "      <td>13.516</td>\n",
       "      <td>219.0</td>\n",
       "      <td>349.62</td>\n",
       "    </tr>\n",
       "  </tbody>\n",
       "</table>\n",
       "</div>"
      ],
      "text/plain": [
       "     time    bid     ask\n",
       "0  13.237  219.0  358.71\n",
       "1  13.268  219.0  358.71\n",
       "2  13.299  219.0  358.71\n",
       "3  13.330  219.0  358.71\n",
       "4  13.361  219.0  358.71\n",
       "5  13.392  219.0  358.71\n",
       "6  13.423  219.0  358.71\n",
       "7  13.454  219.0  358.71\n",
       "8  13.485  219.0  349.62\n",
       "9  13.516  219.0  349.62"
      ]
     },
     "execution_count": 36,
     "metadata": {},
     "output_type": "execute_result"
    }
   ],
   "source": [
    "df.head(10)"
   ]
  },
  {
   "cell_type": "code",
   "execution_count": 37,
   "id": "74f2df4b",
   "metadata": {},
   "outputs": [
    {
     "name": "stdout",
     "output_type": "stream",
     "text": [
      "<class 'pandas.core.frame.DataFrame'>\n",
      "RangeIndex: 631676 entries, 0 to 631675\n",
      "Data columns (total 3 columns):\n",
      " #   Column  Non-Null Count   Dtype  \n",
      "---  ------  --------------   -----  \n",
      " 0   time    631676 non-null  float64\n",
      " 1   bid     631676 non-null  float64\n",
      " 2   ask     631676 non-null  float64\n",
      "dtypes: float64(3)\n",
      "memory usage: 14.5 MB\n"
     ]
    }
   ],
   "source": [
    "df.info()"
   ]
  },
  {
   "cell_type": "code",
   "execution_count": 38,
   "id": "af83cb93",
   "metadata": {
    "scrolled": true
   },
   "outputs": [
    {
     "data": {
      "text/html": [
       "<div>\n",
       "<style scoped>\n",
       "    .dataframe tbody tr th:only-of-type {\n",
       "        vertical-align: middle;\n",
       "    }\n",
       "\n",
       "    .dataframe tbody tr th {\n",
       "        vertical-align: top;\n",
       "    }\n",
       "\n",
       "    .dataframe thead th {\n",
       "        text-align: right;\n",
       "    }\n",
       "</style>\n",
       "<table border=\"1\" class=\"dataframe\">\n",
       "  <thead>\n",
       "    <tr style=\"text-align: right;\">\n",
       "      <th></th>\n",
       "      <th>time</th>\n",
       "      <th>bid</th>\n",
       "      <th>ask</th>\n",
       "    </tr>\n",
       "  </thead>\n",
       "  <tbody>\n",
       "    <tr>\n",
       "      <th>count</th>\n",
       "      <td>631676.000000</td>\n",
       "      <td>631676.000000</td>\n",
       "      <td>631676.000000</td>\n",
       "    </tr>\n",
       "    <tr>\n",
       "      <th>mean</th>\n",
       "      <td>14809.561437</td>\n",
       "      <td>209.547160</td>\n",
       "      <td>422.970893</td>\n",
       "    </tr>\n",
       "    <tr>\n",
       "      <th>std</th>\n",
       "      <td>9052.847040</td>\n",
       "      <td>29.707367</td>\n",
       "      <td>56.937692</td>\n",
       "    </tr>\n",
       "    <tr>\n",
       "      <th>min</th>\n",
       "      <td>13.237000</td>\n",
       "      <td>40.200000</td>\n",
       "      <td>268.170000</td>\n",
       "    </tr>\n",
       "    <tr>\n",
       "      <th>25%</th>\n",
       "      <td>6440.335250</td>\n",
       "      <td>191.330000</td>\n",
       "      <td>382.000000</td>\n",
       "    </tr>\n",
       "    <tr>\n",
       "      <th>50%</th>\n",
       "      <td>15165.835500</td>\n",
       "      <td>212.000000</td>\n",
       "      <td>417.000000</td>\n",
       "    </tr>\n",
       "    <tr>\n",
       "      <th>75%</th>\n",
       "      <td>22669.222750</td>\n",
       "      <td>230.380000</td>\n",
       "      <td>458.000000</td>\n",
       "    </tr>\n",
       "    <tr>\n",
       "      <th>max</th>\n",
       "      <td>30599.976000</td>\n",
       "      <td>292.140000</td>\n",
       "      <td>693.600000</td>\n",
       "    </tr>\n",
       "  </tbody>\n",
       "</table>\n",
       "</div>"
      ],
      "text/plain": [
       "                time            bid            ask\n",
       "count  631676.000000  631676.000000  631676.000000\n",
       "mean    14809.561437     209.547160     422.970893\n",
       "std      9052.847040      29.707367      56.937692\n",
       "min        13.237000      40.200000     268.170000\n",
       "25%      6440.335250     191.330000     382.000000\n",
       "50%     15165.835500     212.000000     417.000000\n",
       "75%     22669.222750     230.380000     458.000000\n",
       "max     30599.976000     292.140000     693.600000"
      ]
     },
     "execution_count": 38,
     "metadata": {},
     "output_type": "execute_result"
    }
   ],
   "source": [
    "df.describe()"
   ]
  },
  {
   "cell_type": "markdown",
   "id": "9553ab0d",
   "metadata": {},
   "source": [
    "## Explore the data distribution"
   ]
  },
  {
   "cell_type": "code",
   "execution_count": 39,
   "id": "9d14a5cc",
   "metadata": {},
   "outputs": [
    {
     "data": {
      "image/png": "[encoded data removed]",
      "text/plain": [
       "<Figure size 432x288 with 4 Axes>"
      ]
     },
     "metadata": {
      "needs_background": "light"
     },
     "output_type": "display_data"
    }
   ],
   "source": [
    "df.hist();"
   ]
  },
  {
   "cell_type": "code",
   "execution_count": 40,
   "id": "20b90ccc",
   "metadata": {},
   "outputs": [
    {
     "name": "stdout",
     "output_type": "stream",
     "text": [
      "          time       bid       ask\n",
      "time  1.000000 -0.150485 -0.006329\n",
      "bid  -0.150485  1.000000  0.045046\n",
      "ask  -0.006329  0.045046  1.000000\n"
     ]
    }
   ],
   "source": [
    "print(df.corr())"
   ]
  },
  {
   "cell_type": "code",
   "execution_count": null,
   "id": "4dd33936",
   "metadata": {},
   "outputs": [],
   "source": []
  }
 ],
 "metadata": {
  "kernelspec": {
   "display_name": "Python 3 (ipykernel)",
   "language": "python",
   "name": "python3"
  },
  "language_info": {
   "codemirror_mode": {
    "name": "ipython",
    "version": 3
   },
   "file_extension": ".py",
   "mimetype": "text/x-python",
   "name": "python",
   "nbconvert_exporter": "python",
   "pygments_lexer": "ipython3",
   "version": "3.9.12"
  }
 },
 "nbformat": 4,
 "nbformat_minor": 5
}
