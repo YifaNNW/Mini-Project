{
 "cells": [
  {
   "cell_type": "markdown",
   "id": "c129d0af",
   "metadata": {},
   "source": [
    "## Data processing steps\n",
    "### 1. Remove duplicate data\n",
    "For example, if bid and ask are the same between adjacent time points, it means that no transaction has occurred, then remove the same line\n",
    "### 2. Generate new features based on price and share in 'bid' and 'ask'   \n",
    "- time: The time of the observation, and the interval sets to 10s.\n",
    "- bid_weighted_average: The weighted average bid price.  \n",
    "- bid_high: The highest price a buyer is willing to pay for the stock.  \n",
    "- bid_volumn: The total number of shares that buyers are willing to buy at the corresponding bid price.  \n",
    "- ask_weighted_average: The weighted average ask price.  \n",
    "- ask_low: The lowest price a seller is willing to accept for the stock.  \n",
    "- ask_volumn: The total number of shares that sellers are willing to sell at the corresponding ask price.   \n",
    "- mid_price: The average price between the highest bid price and lowest ask price.   \n",
    "- spread: The difference between the highest bid price and lowest ask price.   \n",
    "- bid_ask_ratio: The ratio of bid volume to ask volume.   \n",
    "- Trend: Trend: The direction of the price trend. A value of 1 indicates the price is rising, while a value of 2 indicates the price is falling. A value of 0 indicates the price is stable.   \n",
    "- rising: A binary variable indicating whether the price trend is rising (1) or not (0).   \n",
    "- falling: A binary variable indicating whether the price trend is falling (1) or not (0).   \n",
    "- stable: A binary variable indicating whether the price trend is stable (1) or not (0).   "
   ]
  },
  {
   "cell_type": "code",
   "execution_count": 3,
   "id": "02a958af",
   "metadata": {},
   "outputs": [],
   "source": [
    "import csv\n",
    "import pandas as pd\n",
    "import numpy as np\n",
    "import matplotlib.pyplot as plt\n",
    "import os"
   ]
  },
  {
   "cell_type": "code",
   "execution_count": 7,
   "id": "88580856",
   "metadata": {},
   "outputs": [],
   "source": [
    "import os\n",
    "import csv\n",
    "import numpy as np\n",
    "\n",
    "# Set the directory paths for input and output files\n",
    "input_dir = 'LOBS/'\n",
    "output_dir = 'CSV/'\n",
    "\n",
    "# Loop over each input file in the input directory\n",
    "for filename in os.listdir(input_dir):\n",
    "    if not filename.endswith('.txt'):\n",
    "        continue\n",
    "\n",
    "    # Open the input and output files\n",
    "    with open(os.path.join(input_dir, filename), 'r') as infile, open(os.path.join(output_dir, filename[:-4] + '.csv'), 'w', newline='') as outfile:\n",
    "        # Create a CSV writer object\n",
    "        writer = csv.writer(outfile)\n",
    "\n",
    "        # Write the header row\n",
    "        writer.writerow(['time', 'bid_weighted_average', 'bid_high','bid_volumn',\\\n",
    "                         'ask_weighted_average','ask_low','ask_volumn',\\\n",
    "                         'mid_price','spread','bid_ask_ratio'])\n",
    "\n",
    "        # Loop over each line in the input file\n",
    "        for line in infile:\n",
    "            # Split the line into its components\n",
    "            components = eval(line.replace(\"Exch0, \", \"\"))\n",
    "            \n",
    "            # Read the next line from the input file and evaluate it\n",
    "            next_line = infile.readline()\n",
    "            if not next_line:\n",
    "                continue\n",
    "            else:\n",
    "                next_components = eval(next_line.replace(\"Exch0, \", \"\"))\n",
    "            \n",
    "            # Check if bid and ask are same with next components\n",
    "            if components[1] == next_components[1]:\n",
    "                continue\n",
    "                \n",
    "            # Check the number of components in bid and ask, initially set to 2\n",
    "            elif len(components[1][0][1]) < 2 or len(components[1][1][1]) < 2:\n",
    "                continue\n",
    "            \n",
    "            else:\n",
    "                time = components[0] \n",
    "                bid_weighted_average = round(sum(item[0]*item[1] for item in components[1][0][1])/sum(item[1] for item in components[1][0][1]), 2)\n",
    "                bid_high = max(item[0] for item in components[1][0][1])\n",
    "                bid_volumn = sum(item[1] for item in components[1][0][1])\n",
    "                ask_weighted_average = round(sum(item[0]*item[1] for item in components[1][1][1])/sum(item[1] for item in components[1][1][1]), 2)\n",
    "                ask_low = min(item[0] for item in components[1][1][1])\n",
    "                ask_volumn = sum(item[1] for item in components[1][1][1])\n",
    "                mid_price = round(np.average([max(item[0] for item in components[1][0][1]),min(item[0] for item in components[1][1][1])]), 2)\n",
    "                spread = ask_low - bid_high\n",
    "                bid_ask_ratio = round(bid_volumn/ask_volumn,2)\n",
    "                # Write the data to the output file\n",
    "                writer.writerow([time, bid_weighted_average, bid_high, bid_volumn,\\\n",
    "                                 ask_weighted_average,ask_low, ask_volumn,\\\n",
    "                                 mid_price, spread, bid_ask_ratio])\n"
   ]
  },
  {
   "cell_type": "code",
   "execution_count": null,
   "id": "47e66362",
   "metadata": {},
   "outputs": [],
   "source": []
  }
 ],
 "metadata": {
  "kernelspec": {
   "display_name": "Python 3 (ipykernel)",
   "language": "python",
   "name": "python3"
  },
  "language_info": {
   "codemirror_mode": {
    "name": "ipython",
    "version": 3
   },
   "file_extension": ".py",
   "mimetype": "text/x-python",
   "name": "python",
   "nbconvert_exporter": "python",
   "pygments_lexer": "ipython3",
   "version": "3.9.12"
  }
 },
 "nbformat": 4,
 "nbformat_minor": 5
}
